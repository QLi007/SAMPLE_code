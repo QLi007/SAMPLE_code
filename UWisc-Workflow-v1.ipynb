{
 "cells": [
  {
   "cell_type": "code",
   "execution_count": 1,
   "metadata": {},
   "outputs": [
    {
     "name": "stderr",
     "output_type": "stream",
     "text": [
      "/Users/eddielopez/.pyenv/versions/3.7.0/envs/analysis_env_py370/lib/python3.7/site-packages/pandas/compat/_optional.py:106: UserWarning: Pandas requires version '1.2.1' or newer of 'bottleneck' (version '1.2.0' currently installed).\n",
      "  warnings.warn(msg, UserWarning)\n"
     ]
    }
   ],
   "source": [
    "from transcriptic import Connection, Project, Run, Container"
   ]
  },
  {
   "cell_type": "code",
   "execution_count": 2,
   "metadata": {},
   "outputs": [],
   "source": [
    "api = Connection.from_file('~/.transcriptic')"
   ]
  },
  {
   "cell_type": "code",
   "execution_count": 3,
   "metadata": {},
   "outputs": [],
   "source": [
    "project = Project('p1fdh5g6xarwhr')"
   ]
  },
  {
   "cell_type": "code",
   "execution_count": 6,
   "metadata": {},
   "outputs": [
    {
     "data": {
      "text/plain": [
       "dict_keys(['connection', 'id', 'name', 'attributes', '_runs'])"
      ]
     },
     "execution_count": 6,
     "metadata": {},
     "output_type": "execute_result"
    }
   ],
   "source": [
    "project.__dict__.keys()"
   ]
  },
  {
   "cell_type": "code",
   "execution_count": 16,
   "metadata": {},
   "outputs": [
    {
     "data": {
      "text/html": [
       "<div>\n",
       "<style scoped>\n",
       "    .dataframe tbody tr th:only-of-type {\n",
       "        vertical-align: middle;\n",
       "    }\n",
       "\n",
       "    .dataframe tbody tr th {\n",
       "        vertical-align: top;\n",
       "    }\n",
       "\n",
       "    .dataframe thead th {\n",
       "        text-align: right;\n",
       "    }\n",
       "</style>\n",
       "<table border=\"1\" class=\"dataframe\">\n",
       "  <thead>\n",
       "    <tr style=\"text-align: right;\">\n",
       "      <th></th>\n",
       "      <th>id</th>\n",
       "      <th>Name</th>\n",
       "    </tr>\n",
       "  </thead>\n",
       "  <tbody>\n",
       "    <tr>\n",
       "      <th>0</th>\n",
       "      <td>r1ffua5tppscak</td>\n",
       "      <td>Beta-glucosidase Protein Activity on 2021-03-01</td>\n",
       "    </tr>\n",
       "    <tr>\n",
       "      <th>1</th>\n",
       "      <td>r1ffg5rdea96fc</td>\n",
       "      <td>In Vitro Transcription Translation on 2021-02-26</td>\n",
       "    </tr>\n",
       "    <tr>\n",
       "      <th>2</th>\n",
       "      <td>r1fdrbvepwp58f</td>\n",
       "      <td>PCR Amplification Check on 2021-02-10</td>\n",
       "    </tr>\n",
       "    <tr>\n",
       "      <th>3</th>\n",
       "      <td>r1fdr9d57v7baa</td>\n",
       "      <td>PCR Amplification Check on 2021-02-10</td>\n",
       "    </tr>\n",
       "    <tr>\n",
       "      <th>4</th>\n",
       "      <td>r1fdr9ak8ctevc</td>\n",
       "      <td>Golden Gate Amplification on 2021-02-10</td>\n",
       "    </tr>\n",
       "    <tr>\n",
       "      <th>5</th>\n",
       "      <td>r1fdqjqa5v8g3r</td>\n",
       "      <td>NEB Golden Gate Assembly on 2021-02-10</td>\n",
       "    </tr>\n",
       "  </tbody>\n",
       "</table>\n",
       "</div>"
      ],
      "text/plain": [
       "               id                                              Name\n",
       "0  r1ffua5tppscak   Beta-glucosidase Protein Activity on 2021-03-01\n",
       "1  r1ffg5rdea96fc  In Vitro Transcription Translation on 2021-02-26\n",
       "2  r1fdrbvepwp58f             PCR Amplification Check on 2021-02-10\n",
       "3  r1fdr9d57v7baa             PCR Amplification Check on 2021-02-10\n",
       "4  r1fdr9ak8ctevc           Golden Gate Amplification on 2021-02-10\n",
       "5  r1fdqjqa5v8g3r            NEB Golden Gate Assembly on 2021-02-10"
      ]
     },
     "execution_count": 16,
     "metadata": {},
     "output_type": "execute_result"
    }
   ],
   "source": [
    "project.runs()"
   ]
  },
  {
   "cell_type": "code",
   "execution_count": 37,
   "metadata": {},
   "outputs": [],
   "source": [
    "workflow = [\n",
    "#     'NEB Golden Gate Assembly',\n",
    "#     'Golden Gate Amplification',\n",
    "#     'In Vitro Transcription Translation',\n",
    "    'Beta-glucosidase Protein Activity'\n",
    "]"
   ]
  },
  {
   "cell_type": "code",
   "execution_count": 38,
   "metadata": {},
   "outputs": [
    {
     "data": {
      "text/plain": [
       "{'Beta-glucosidase Protein Activity': 'r1ffua5tppscak',\n",
       " 'In Vitro Transcription Translation': 'r1ffg5rdea96fc',\n",
       " 'PCR Amplification Check': 'r1fdr9d57v7baa',\n",
       " 'Golden Gate Amplification': 'r1fdr9ak8ctevc',\n",
       " 'NEB Golden Gate Assembly': 'r1fdqjqa5v8g3r'}"
      ]
     },
     "execution_count": 38,
     "metadata": {},
     "output_type": "execute_result"
    }
   ],
   "source": [
    "# Objective iterate through runs in the workflow order and gather all relevent containers and data\n",
    "workflow_dict = {' '.join(row['Name'].split(' ')[:-2]): row['id'] for i, row in project.runs().iterrows()}\n",
    "workflow_dict"
   ]
  },
  {
   "cell_type": "code",
   "execution_count": 41,
   "metadata": {},
   "outputs": [
    {
     "name": "stdout",
     "output_type": "stream",
     "text": [
      "<transcriptic.jupyter.objects.Run object at 0x121cbf9e8>\n"
     ]
    }
   ],
   "source": [
    "run = None\n",
    "for name in workflow:\n",
    "    run = Run(workflow_dict[name])\n",
    "    print(run)\n",
    "    break"
   ]
  },
  {
   "cell_type": "code",
   "execution_count": 42,
   "metadata": {},
   "outputs": [
    {
     "data": {
      "text/plain": [
       "dict_keys(['connection', 'id', 'name', 'attributes', 'project_id', 'timeout', '_data_ids', '_instructions', '_containers', '_data'])"
      ]
     },
     "execution_count": 42,
     "metadata": {},
     "output_type": "execute_result"
    }
   ],
   "source": [
    "run.__dict__.keys()"
   ]
  },
  {
   "cell_type": "code",
   "execution_count": 47,
   "metadata": {},
   "outputs": [
    {
     "data": {
      "text/html": [
       "<div>\n",
       "<style scoped>\n",
       "    .dataframe tbody tr th:only-of-type {\n",
       "        vertical-align: middle;\n",
       "    }\n",
       "\n",
       "    .dataframe tbody tr th {\n",
       "        vertical-align: top;\n",
       "    }\n",
       "\n",
       "    .dataframe thead th {\n",
       "        text-align: right;\n",
       "    }\n",
       "</style>\n",
       "<table border=\"1\" class=\"dataframe\">\n",
       "  <thead>\n",
       "    <tr style=\"text-align: right;\">\n",
       "      <th></th>\n",
       "      <th>Name</th>\n",
       "      <th>ContainerId</th>\n",
       "      <th>Containers</th>\n",
       "    </tr>\n",
       "  </thead>\n",
       "  <tbody>\n",
       "    <tr>\n",
       "      <th>0</th>\n",
       "      <td>Row:0-ct1ffg5rdguqzjm-Incubated-IVTT-Storage-P...</td>\n",
       "      <td>ct1ffua5u4wnr98</td>\n",
       "      <td>Container(Row:0-ct1ffg5rdguqzjm-Incubated-IVTT...</td>\n",
       "    </tr>\n",
       "    <tr>\n",
       "      <th>1</th>\n",
       "      <td>Row:0-ct1ffg5rdguqzjm-ProteinActivity-Plate</td>\n",
       "      <td>ct1ffua5u4key3x</td>\n",
       "      <td>Container(Row:0-ct1ffg5rdguqzjm-ProteinActivit...</td>\n",
       "    </tr>\n",
       "    <tr>\n",
       "      <th>2</th>\n",
       "      <td>Row:0-ct1ffg5rdguqzjm-Low-IncubationPlate</td>\n",
       "      <td>ct1ffua5u4986wn</td>\n",
       "      <td>Container(Row:0-ct1ffg5rdguqzjm-Low-Incubation...</td>\n",
       "    </tr>\n",
       "    <tr>\n",
       "      <th>3</th>\n",
       "      <td>Row:0-ct1ffg5rdguqzjm-High-IncubationPlate</td>\n",
       "      <td>ct1ffua5u3wzdrc</td>\n",
       "      <td>Container(Row:0-ct1ffg5rdguqzjm-High-Incubatio...</td>\n",
       "    </tr>\n",
       "    <tr>\n",
       "      <th>4</th>\n",
       "      <td>ProteinSubstrate-Provisions-Tube</td>\n",
       "      <td>ct1ffua5u3ksmk3</td>\n",
       "      <td>Container(ProteinSubstrate-Provisions-Tube)</td>\n",
       "    </tr>\n",
       "    <tr>\n",
       "      <th>5</th>\n",
       "      <td>3-IVTT-Mix-Tube</td>\n",
       "      <td>ct1ffua5u39juds</td>\n",
       "      <td>Container(3-IVTT-Mix-Tube)</td>\n",
       "    </tr>\n",
       "    <tr>\n",
       "      <th>6</th>\n",
       "      <td>2-IVTT-Mix-Tube</td>\n",
       "      <td>ct1ffua5u2xc38g</td>\n",
       "      <td>Container(2-IVTT-Mix-Tube)</td>\n",
       "    </tr>\n",
       "    <tr>\n",
       "      <th>7</th>\n",
       "      <td>1-IVTT-Mix-Tube</td>\n",
       "      <td>ct1ffua5u2m5a37</td>\n",
       "      <td>Container(1-IVTT-Mix-Tube)</td>\n",
       "    </tr>\n",
       "    <tr>\n",
       "      <th>8</th>\n",
       "      <td>ct1ffg5rdguqzjm-IVTT-DilutionPlate</td>\n",
       "      <td>ct1ffua5u29wgvw</td>\n",
       "      <td>Container(ct1ffg5rdguqzjm-IVTT-DilutionPlate)</td>\n",
       "    </tr>\n",
       "    <tr>\n",
       "      <th>9</th>\n",
       "      <td>Dilution-Water</td>\n",
       "      <td>ct1ffua5tzxpqqm</td>\n",
       "      <td>Container(Dilution-Water)</td>\n",
       "    </tr>\n",
       "    <tr>\n",
       "      <th>10</th>\n",
       "      <td>ct1fdrbvet5khpa-IVTT-Plate</td>\n",
       "      <td>ct1ffg5rdguqzjm</td>\n",
       "      <td>Container(ct1fdrbvet5khpa-IVTT-Plate)</td>\n",
       "    </tr>\n",
       "  </tbody>\n",
       "</table>\n",
       "</div>"
      ],
      "text/plain": [
       "                                                 Name      ContainerId  \\\n",
       "0   Row:0-ct1ffg5rdguqzjm-Incubated-IVTT-Storage-P...  ct1ffua5u4wnr98   \n",
       "1         Row:0-ct1ffg5rdguqzjm-ProteinActivity-Plate  ct1ffua5u4key3x   \n",
       "2           Row:0-ct1ffg5rdguqzjm-Low-IncubationPlate  ct1ffua5u4986wn   \n",
       "3          Row:0-ct1ffg5rdguqzjm-High-IncubationPlate  ct1ffua5u3wzdrc   \n",
       "4                    ProteinSubstrate-Provisions-Tube  ct1ffua5u3ksmk3   \n",
       "5                                     3-IVTT-Mix-Tube  ct1ffua5u39juds   \n",
       "6                                     2-IVTT-Mix-Tube  ct1ffua5u2xc38g   \n",
       "7                                     1-IVTT-Mix-Tube  ct1ffua5u2m5a37   \n",
       "8                  ct1ffg5rdguqzjm-IVTT-DilutionPlate  ct1ffua5u29wgvw   \n",
       "9                                      Dilution-Water  ct1ffua5tzxpqqm   \n",
       "10                         ct1fdrbvet5khpa-IVTT-Plate  ct1ffg5rdguqzjm   \n",
       "\n",
       "                                           Containers  \n",
       "0   Container(Row:0-ct1ffg5rdguqzjm-Incubated-IVTT...  \n",
       "1   Container(Row:0-ct1ffg5rdguqzjm-ProteinActivit...  \n",
       "2   Container(Row:0-ct1ffg5rdguqzjm-Low-Incubation...  \n",
       "3   Container(Row:0-ct1ffg5rdguqzjm-High-Incubatio...  \n",
       "4         Container(ProteinSubstrate-Provisions-Tube)  \n",
       "5                          Container(3-IVTT-Mix-Tube)  \n",
       "6                          Container(2-IVTT-Mix-Tube)  \n",
       "7                          Container(1-IVTT-Mix-Tube)  \n",
       "8       Container(ct1ffg5rdguqzjm-IVTT-DilutionPlate)  \n",
       "9                           Container(Dilution-Water)  \n",
       "10              Container(ct1fdrbvet5khpa-IVTT-Plate)  "
      ]
     },
     "execution_count": 47,
     "metadata": {},
     "output_type": "execute_result"
    }
   ],
   "source": [
    "run._containers"
   ]
  },
  {
   "cell_type": "code",
   "execution_count": 50,
   "metadata": {},
   "outputs": [
    {
     "data": {
      "text/plain": [
       "0     Row:0-ct1ffg5rdguqzjm-Incubated-IVTT-Storage-P...\n",
       "1           Row:0-ct1ffg5rdguqzjm-ProteinActivity-Plate\n",
       "2             Row:0-ct1ffg5rdguqzjm-Low-IncubationPlate\n",
       "3            Row:0-ct1ffg5rdguqzjm-High-IncubationPlate\n",
       "4                      ProteinSubstrate-Provisions-Tube\n",
       "5                                       3-IVTT-Mix-Tube\n",
       "6                                       2-IVTT-Mix-Tube\n",
       "7                                       1-IVTT-Mix-Tube\n",
       "8                    ct1ffg5rdguqzjm-IVTT-DilutionPlate\n",
       "9                                        Dilution-Water\n",
       "10                           ct1fdrbvet5khpa-IVTT-Plate\n",
       "Name: Name, dtype: object"
      ]
     },
     "execution_count": 50,
     "metadata": {},
     "output_type": "execute_result"
    }
   ],
   "source": [
    "run._containers['Name']"
   ]
  },
  {
   "cell_type": "code",
   "execution_count": 51,
   "metadata": {},
   "outputs": [],
   "source": [
    "# Input plate - ctxxxxx-IVTT-Plate\n",
    "# \n",
    "# Activity Plates - [Row:0-ctxxxxx-ProteinActivity-Plate]"
   ]
  },
  {
   "cell_type": "code",
   "execution_count": 56,
   "metadata": {},
   "outputs": [],
   "source": [
    "activity_plate = run._containers.iloc[10]['Containers']"
   ]
  },
  {
   "cell_type": "code",
   "execution_count": 59,
   "metadata": {},
   "outputs": [
    {
     "data": {
      "text/html": [
       "<div>\n",
       "<style scoped>\n",
       "    .dataframe tbody tr th:only-of-type {\n",
       "        vertical-align: middle;\n",
       "    }\n",
       "\n",
       "    .dataframe tbody tr th {\n",
       "        vertical-align: top;\n",
       "    }\n",
       "\n",
       "    .dataframe thead th {\n",
       "        text-align: right;\n",
       "    }\n",
       "</style>\n",
       "<table border=\"1\" class=\"dataframe\">\n",
       "  <thead>\n",
       "    <tr style=\"text-align: right;\">\n",
       "      <th></th>\n",
       "      <th>Name</th>\n",
       "      <th>Id</th>\n",
       "      <th>Volume</th>\n",
       "      <th>AccuRapid-Ecoli-Extract-Mix:MasterMix</th>\n",
       "      <th>AccuRapid-Ecoli-Extract-Mix:Volume</th>\n",
       "      <th>AccuRapid-Ecoli-Extract-Mix:Kind</th>\n",
       "      <th>AccuRapid-Master-Mix:MasterMix</th>\n",
       "      <th>AccuRapid-Master-Mix:Volume</th>\n",
       "      <th>AccuRapid-Master-Mix:Kind</th>\n",
       "      <th>source</th>\n",
       "    </tr>\n",
       "    <tr>\n",
       "      <th>Well Index</th>\n",
       "      <th></th>\n",
       "      <th></th>\n",
       "      <th></th>\n",
       "      <th></th>\n",
       "      <th></th>\n",
       "      <th></th>\n",
       "      <th></th>\n",
       "      <th></th>\n",
       "      <th></th>\n",
       "      <th></th>\n",
       "    </tr>\n",
       "  </thead>\n",
       "  <tbody>\n",
       "    <tr>\n",
       "      <th>0</th>\n",
       "      <td>IVTTReaction</td>\n",
       "      <td>aq1ffg7bb369by3</td>\n",
       "      <td>5:microliter</td>\n",
       "      <td>rs1f47z2uft2kyv</td>\n",
       "      <td>20:microliter</td>\n",
       "      <td>Protein</td>\n",
       "      <td>rs1f47z3qb2zdga</td>\n",
       "      <td>40:microliter</td>\n",
       "      <td>Protein</td>\n",
       "      <td>ct1fdrbvet5khpa:0</td>\n",
       "    </tr>\n",
       "    <tr>\n",
       "      <th>1</th>\n",
       "      <td>IVTTReaction</td>\n",
       "      <td>aq1ffg7bb37dj45</td>\n",
       "      <td>5:microliter</td>\n",
       "      <td>rs1f47z2uft2kyv</td>\n",
       "      <td>20:microliter</td>\n",
       "      <td>Protein</td>\n",
       "      <td>rs1f47z3qb2zdga</td>\n",
       "      <td>40:microliter</td>\n",
       "      <td>Protein</td>\n",
       "      <td>ct1fdrbvet5khpa:1</td>\n",
       "    </tr>\n",
       "    <tr>\n",
       "      <th>2</th>\n",
       "      <td>IVTTReaction</td>\n",
       "      <td>aq1ffg7bb37dj48</td>\n",
       "      <td>5:microliter</td>\n",
       "      <td>rs1f47z2uft2kyv</td>\n",
       "      <td>20:microliter</td>\n",
       "      <td>Protein</td>\n",
       "      <td>rs1f47z3qb2zdga</td>\n",
       "      <td>40:microliter</td>\n",
       "      <td>Protein</td>\n",
       "      <td>ct1fdrbvet5khpa:2</td>\n",
       "    </tr>\n",
       "    <tr>\n",
       "      <th>3</th>\n",
       "      <td>IVTTReaction</td>\n",
       "      <td>aq1ffg7bb38hr87</td>\n",
       "      <td>5:microliter</td>\n",
       "      <td>rs1f47z2uft2kyv</td>\n",
       "      <td>20:microliter</td>\n",
       "      <td>Protein</td>\n",
       "      <td>rs1f47z3qb2zdga</td>\n",
       "      <td>40:microliter</td>\n",
       "      <td>Protein</td>\n",
       "      <td>ct1fdrbvet5khpa:3</td>\n",
       "    </tr>\n",
       "  </tbody>\n",
       "</table>\n",
       "</div>"
      ],
      "text/plain": [
       "                    Name               Id        Volume  \\\n",
       "Well Index                                                \n",
       "0           IVTTReaction  aq1ffg7bb369by3  5:microliter   \n",
       "1           IVTTReaction  aq1ffg7bb37dj45  5:microliter   \n",
       "2           IVTTReaction  aq1ffg7bb37dj48  5:microliter   \n",
       "3           IVTTReaction  aq1ffg7bb38hr87  5:microliter   \n",
       "\n",
       "           AccuRapid-Ecoli-Extract-Mix:MasterMix  \\\n",
       "Well Index                                         \n",
       "0                                rs1f47z2uft2kyv   \n",
       "1                                rs1f47z2uft2kyv   \n",
       "2                                rs1f47z2uft2kyv   \n",
       "3                                rs1f47z2uft2kyv   \n",
       "\n",
       "           AccuRapid-Ecoli-Extract-Mix:Volume  \\\n",
       "Well Index                                      \n",
       "0                               20:microliter   \n",
       "1                               20:microliter   \n",
       "2                               20:microliter   \n",
       "3                               20:microliter   \n",
       "\n",
       "           AccuRapid-Ecoli-Extract-Mix:Kind AccuRapid-Master-Mix:MasterMix  \\\n",
       "Well Index                                                                   \n",
       "0                                   Protein                rs1f47z3qb2zdga   \n",
       "1                                   Protein                rs1f47z3qb2zdga   \n",
       "2                                   Protein                rs1f47z3qb2zdga   \n",
       "3                                   Protein                rs1f47z3qb2zdga   \n",
       "\n",
       "           AccuRapid-Master-Mix:Volume AccuRapid-Master-Mix:Kind  \\\n",
       "Well Index                                                         \n",
       "0                        40:microliter                   Protein   \n",
       "1                        40:microliter                   Protein   \n",
       "2                        40:microliter                   Protein   \n",
       "3                        40:microliter                   Protein   \n",
       "\n",
       "                       source  \n",
       "Well Index                     \n",
       "0           ct1fdrbvet5khpa:0  \n",
       "1           ct1fdrbvet5khpa:1  \n",
       "2           ct1fdrbvet5khpa:2  \n",
       "3           ct1fdrbvet5khpa:3  "
      ]
     },
     "execution_count": 59,
     "metadata": {},
     "output_type": "execute_result"
    }
   ],
   "source": [
    "ivtt_rxns = activity_plate.aliquots[activity_plate.aliquots['Name'] == 'IVTTReaction']"
   ]
  },
  {
   "cell_type": "code",
   "execution_count": 68,
   "metadata": {
    "scrolled": true
   },
   "outputs": [
    {
     "data": {
      "text/html": [
       "<div>\n",
       "<style scoped>\n",
       "    .dataframe tbody tr th:only-of-type {\n",
       "        vertical-align: middle;\n",
       "    }\n",
       "\n",
       "    .dataframe tbody tr th {\n",
       "        vertical-align: top;\n",
       "    }\n",
       "\n",
       "    .dataframe thead th {\n",
       "        text-align: right;\n",
       "    }\n",
       "</style>\n",
       "<table border=\"1\" class=\"dataframe\">\n",
       "  <thead>\n",
       "    <tr style=\"text-align: right;\">\n",
       "      <th></th>\n",
       "      <th>Name</th>\n",
       "      <th>Id</th>\n",
       "      <th>Volume</th>\n",
       "      <th>source</th>\n",
       "      <th>destination</th>\n",
       "    </tr>\n",
       "    <tr>\n",
       "      <th>Well Index</th>\n",
       "      <th></th>\n",
       "      <th></th>\n",
       "      <th></th>\n",
       "      <th></th>\n",
       "      <th></th>\n",
       "    </tr>\n",
       "  </thead>\n",
       "  <tbody>\n",
       "    <tr>\n",
       "      <th>0</th>\n",
       "      <td>PCRReaction</td>\n",
       "      <td>aq1fduaag88ddbr</td>\n",
       "      <td>35:microliter</td>\n",
       "      <td>ct1fdr2xb7wr55d:0</td>\n",
       "      <td>ct1fdr2xb7wr55d-EVA-Green-Plate:0, ct1fdrbvet5...</td>\n",
       "    </tr>\n",
       "    <tr>\n",
       "      <th>1</th>\n",
       "      <td>PCRReaction</td>\n",
       "      <td>aq1fduaag89hkfs</td>\n",
       "      <td>35:microliter</td>\n",
       "      <td>ct1fdr2xb7wr55d:1</td>\n",
       "      <td>ct1fdr2xb7wr55d-EVA-Green-Plate:1, ct1fdrbvet5...</td>\n",
       "    </tr>\n",
       "    <tr>\n",
       "      <th>2</th>\n",
       "      <td>PCRReaction</td>\n",
       "      <td>aq1fduaag89hkfu</td>\n",
       "      <td>35:microliter</td>\n",
       "      <td>ct1fdr2xb7wr55d:2</td>\n",
       "      <td>ct1fdr2xb7wr55d-EVA-Green-Plate:2, ct1fdrbvet5...</td>\n",
       "    </tr>\n",
       "    <tr>\n",
       "      <th>3</th>\n",
       "      <td>PCRReaction</td>\n",
       "      <td>aq1fduaag89hkfw</td>\n",
       "      <td>35:microliter</td>\n",
       "      <td>ct1fdr2xb7wr55d:3</td>\n",
       "      <td>ct1fdr2xb7wr55d-EVA-Green-Plate:3, ct1fdrbvet5...</td>\n",
       "    </tr>\n",
       "  </tbody>\n",
       "</table>\n",
       "</div>"
      ],
      "text/plain": [
       "                   Name               Id         Volume             source  \\\n",
       "Well Index                                                                   \n",
       "0           PCRReaction  aq1fduaag88ddbr  35:microliter  ct1fdr2xb7wr55d:0   \n",
       "1           PCRReaction  aq1fduaag89hkfs  35:microliter  ct1fdr2xb7wr55d:1   \n",
       "2           PCRReaction  aq1fduaag89hkfu  35:microliter  ct1fdr2xb7wr55d:2   \n",
       "3           PCRReaction  aq1fduaag89hkfw  35:microliter  ct1fdr2xb7wr55d:3   \n",
       "\n",
       "                                                  destination  \n",
       "Well Index                                                     \n",
       "0           ct1fdr2xb7wr55d-EVA-Green-Plate:0, ct1fdrbvet5...  \n",
       "1           ct1fdr2xb7wr55d-EVA-Green-Plate:1, ct1fdrbvet5...  \n",
       "2           ct1fdr2xb7wr55d-EVA-Green-Plate:2, ct1fdrbvet5...  \n",
       "3           ct1fdr2xb7wr55d-EVA-Green-Plate:3, ct1fdrbvet5...  "
      ]
     },
     "execution_count": 68,
     "metadata": {},
     "output_type": "execute_result"
    }
   ],
   "source": [
    "ivtt_rxns = activity_plate.aliquots[activity_plate.aliquots['Name'] == 'IVTTReaction']\n",
    "src_cont, well_idx = ivtt_rxns.iloc[0]['source'].split(':')\n",
    "source = Container(src_cont)\n",
    "source.aliquots[source.aliquots['Name'] == 'PCRReaction']\n"
   ]
  },
  {
   "cell_type": "code",
   "execution_count": null,
   "metadata": {},
   "outputs": [],
   "source": []
  }
 ],
 "metadata": {
  "kernelspec": {
   "display_name": "Python 3",
   "language": "python",
   "name": "python3"
  },
  "language_info": {
   "codemirror_mode": {
    "name": "ipython",
    "version": 3
   },
   "file_extension": ".py",
   "mimetype": "text/x-python",
   "name": "python",
   "nbconvert_exporter": "python",
   "pygments_lexer": "ipython3",
   "version": "3.8.2"
  }
 },
 "nbformat": 4,
 "nbformat_minor": 4
}
